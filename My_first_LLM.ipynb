{
  "nbformat": 4,
  "nbformat_minor": 0,
  "metadata": {
    "colab": {
      "provenance": [],
      "authorship_tag": "ABX9TyPFXIwqF6f7QKLCzDbGNMYG",
      "include_colab_link": true
    },
    "kernelspec": {
      "name": "python3",
      "display_name": "Python 3"
    },
    "language_info": {
      "name": "python"
    }
  },
  "cells": [
    {
      "cell_type": "markdown",
      "metadata": {
        "id": "view-in-github",
        "colab_type": "text"
      },
      "source": [
        "<a href=\"https://colab.research.google.com/github/franciscolpjr/Gemini/blob/main/My_first_LLM.ipynb\" target=\"_parent\"><img src=\"https://colab.research.google.com/assets/colab-badge.svg\" alt=\"Open In Colab\"/></a>"
      ]
    },
    {
      "cell_type": "code",
      "execution_count": 1,
      "metadata": {
        "id": "6WNDLY-U5x4G"
      },
      "outputs": [],
      "source": [
        "#!pip install -q -U google-generativeai"
      ]
    },
    {
      "cell_type": "code",
      "source": [
        "import numpy as np\n",
        "import pandas as pd\n",
        "\n",
        "import google.generativeai as genai\n",
        "from google.colab import userdata\n",
        "\n",
        "from google.colab import userdata\n",
        "api_key = userdata.get('secret_api_key')\n",
        "GOOGLE_API_KEY=api_key\n",
        "genai.configure(api_key=GOOGLE_API_KEY)"
      ],
      "metadata": {
        "id": "0WR-9Gt86CAn"
      },
      "execution_count": 1,
      "outputs": []
    },
    {
      "cell_type": "code",
      "source": [
        "for m in genai.list_models():\n",
        "  if 'embedContent' in m.supported_generation_methods:\n",
        "    #print(m.name)\n",
        "    pass\n",
        "\n",
        "model_name=\"models/embedding-001\""
      ],
      "metadata": {
        "id": "L82FPx0L67uj"
      },
      "execution_count": 25,
      "outputs": []
    },
    {
      "cell_type": "code",
      "source": [
        "title=\"Lista de produtos\"\n",
        "sample_text = {\n",
        "    \"Item 1:\" \"['descrição':'cesta de palha tamanho M','valor':'R$ 25,00','fabricante':'Sta Catarina'],\" \"\\n\"\n",
        "    \"Item 2:\" \"['descrição':'cesta de palha tamanho G','valor':'R$ 35,00','fabricante':'Sta Catarina'],\" \"\\n\"\n",
        "    \"Item 3:\" \"['descrição':'vinho tinto malbec','valor':'R$ 45,00','fabricante':'Concha e Toro'],\" \"\\n\"\n",
        "    \"Item 4:\" \"['descrição':'queijo minas artesanal','valor':'R$ 50,00','fabricante':'Celeiro do leite'],\" \"\\n\"\n",
        "    \"Item 5:\" \"['descrição':'torradas de pão frances','valor':'R$ 15,00','fabricante':'Bauducco'],\" \"\\n\"\n",
        "}\n",
        "\n",
        "embeddings = genai.embed_content(model=\"models/embedding-001\",\n",
        "                                 content=sample_text,\n",
        "                                 title=title,\n",
        "                                 task_type=\"RETRIEVAL_DOCUMENT\")\n",
        "\n",
        "#print(embeddings)"
      ],
      "metadata": {
        "id": "OUbrBjw6-YCm"
      },
      "execution_count": 5,
      "outputs": []
    },
    {
      "cell_type": "code",
      "source": [
        "documento1 = {\n",
        "    \"Título\":\"Cesta de café da manhã romântico.\",\n",
        "    \"Conteúdo\":\"Cesta de café da manhã preparado com todo cuidado para pessoa amada. Inclui itens como quitandas frescas, suco natural e um arranjo de flores naturais. Valor: R$190,00\"\n",
        "}\n",
        "\n",
        "documento2 = {\n",
        "    \"Título\":\"Cesta de café da manhã para pessoas alegres.\",\n",
        "    \"Conteúdo\":\"Cesta de café da manhã alegre. Contém vários itens para alegrar o dia todo desta pessoa, tais como: Café cappucino e pão de queijo. Duas cervejas long-neck com petiscos. E um cartão de bom dia. Valor: R$145,00\"\n",
        "}\n",
        "\n",
        "documento3 = {\n",
        "    \"Título\":\"Cesta de happy hour.\",\n",
        "    \"Conteúdo\":\"Cesta de happy hour para alegrar o final de dia de qualquer pessoa. Inclui itens como: 4 cervejas long-neck, 3 petiscos diversos e 2 pedaços de queijo. Valor: R$155,00\"\n",
        "}\n",
        "\n",
        "documents = [documento1, documento2, documento3]"
      ],
      "metadata": {
        "id": "-BNLwwZNB3FC"
      },
      "execution_count": 6,
      "outputs": []
    },
    {
      "cell_type": "code",
      "source": [
        "lista = pd.DataFrame(documents)\n",
        "lista.columns = [\"Titulo\", \"Conteudo\"]\n",
        "#print(lista)"
      ],
      "metadata": {
        "colab": {
          "base_uri": "https://localhost:8080/"
        },
        "collapsed": true,
        "id": "LPTkmwA7Dthe",
        "outputId": "7a246e81-2c5a-4131-b6df-c6f17d56c523"
      },
      "execution_count": 15,
      "outputs": [
        {
          "output_type": "stream",
          "name": "stdout",
          "text": [
            "                                         Titulo  \\\n",
            "0             Cesta de café da manhã romântico.   \n",
            "1  Cesta de café da manhã para pessoas alegres.   \n",
            "2                          Cesta de happy hour.   \n",
            "\n",
            "                                            Conteudo  \n",
            "0  Cesta de café da manhã preparado com todo cuid...  \n",
            "1  Cesta de café da manhã alegre. Contém vários i...  \n",
            "2  Cesta de happy hour para alegrar o final de di...  \n"
          ]
        }
      ]
    },
    {
      "cell_type": "code",
      "source": [
        "def embeddingGen(title,text):\n",
        "  return genai.embed_content(model=model_name,\n",
        "                                 content=text,\n",
        "                                 title=title,\n",
        "                                 task_type=\"RETRIEVAL_DOCUMENT\")[\"embedding\"]\n",
        "\n",
        "lista[\"embeddings\"] = lista.apply(lambda row: embeddingGen(row[\"Titulo\"],row[\"Conteudo\"]),axis=1)\n",
        "\n",
        "#print(lista)"
      ],
      "metadata": {
        "colab": {
          "base_uri": "https://localhost:8080/",
          "height": 260
        },
        "collapsed": true,
        "id": "M9JwFH3ySpyq",
        "outputId": "a04d5ed4-8840-45cb-d0bf-6b20b0a21c75"
      },
      "execution_count": 20,
      "outputs": [
        {
          "output_type": "stream",
          "name": "stdout",
          "text": [
            "                                         Titulo  \\\n",
            "0             Cesta de café da manhã romântico.   \n",
            "1  Cesta de café da manhã para pessoas alegres.   \n",
            "2                          Cesta de happy hour.   \n",
            "\n",
            "                                            Conteudo  \\\n",
            "0  Cesta de café da manhã preparado com todo cuid...   \n",
            "1  Cesta de café da manhã alegre. Contém vários i...   \n",
            "2  Cesta de happy hour para alegrar o final de di...   \n",
            "\n",
            "                                          embeddings  \n",
            "0  [0.035240542, -0.05373278, -0.008759275, -0.02...  \n",
            "1  [0.0055454, -0.021626735, -0.039256062, -0.014...  \n",
            "2  [0.033032097, -0.0051309713, -0.028721677, -0....  \n"
          ]
        }
      ]
    },
    {
      "cell_type": "code",
      "source": [
        "def consulta_fn(consulta,lista,model_name):\n",
        "   embedding_da_consulta = genai.embed_content(model=model_name,content=consulta,task_type=\"RETRIEVAL_DOCUMENT\")[\"embedding\"]\n",
        "   produtos_escalares = np.dot(np.stack(lista[\"embeddings\"]),embedding_da_consulta)\n",
        "   indice = np.argmax(produtos_escalares)\n",
        "   return lista.iloc[indice][\"Conteudo\"]"
      ],
      "metadata": {
        "id": "ZJLwfkdqYvTc"
      },
      "execution_count": 27,
      "outputs": []
    },
    {
      "cell_type": "code",
      "source": [
        "consulta = \"Quero uma cesta para minha amada esposa. Qual você indica?\"\n",
        "\n",
        "resultado = consulta_fn(consulta,lista,model_name)\n",
        "\n",
        "print(resultado)"
      ],
      "metadata": {
        "colab": {
          "base_uri": "https://localhost:8080/",
          "height": 54
        },
        "id": "OIdg59OmazBD",
        "outputId": "6f1312c6-758c-45b7-c41a-b7ed53101636"
      },
      "execution_count": 33,
      "outputs": [
        {
          "output_type": "stream",
          "name": "stdout",
          "text": [
            "Cesta de café da manhã preparado com todo cuidado para pessoa amada. Inclui itens como quitandas frescas, suco natural e um arranjo de flores naturais. Valor: R$190,00\n"
          ]
        }
      ]
    },
    {
      "cell_type": "code",
      "source": [
        "generation_config = {\n",
        "    \"temperature\": 0.2,\n",
        "    \"candidate_count\": 1,\n",
        "    \"max_output_tokens\": 1000,\n",
        "}\n",
        "\n",
        "prompt = f\"Aja como um bom vendedor e reescreva o conteúdo do texto sem adicionar informações. Texto:{resultado}\"\n",
        "\n",
        "model_2 = genai.GenerativeModel(\"gemini-1.0-pro\",generation_config=generation_config)\n",
        "resultado_2 = model_2.generate_content(prompt)\n",
        "\n",
        "print(resultado_2.text)"
      ],
      "metadata": {
        "colab": {
          "base_uri": "https://localhost:8080/",
          "height": 243
        },
        "id": "IYwgsL4udtL7",
        "outputId": "b6a30c88-1bcc-4612-fb44-fed40e229ad7"
      },
      "execution_count": 40,
      "outputs": [
        {
          "output_type": "stream",
          "name": "stdout",
          "text": [
            "**Cesta de Café da Manhã Encantadora**\n",
            "\n",
            "Imagine o sorriso no rosto da pessoa amada ao receber esta cesta de café da manhã cuidadosamente preparada.\n",
            "\n",
            "Cada item foi selecionado com carinho para criar uma experiência inesquecível:\n",
            "\n",
            "* Quitandas fresquinhas, assadas com amor\n",
            "* Suco natural, repleto de vitaminas e sabor\n",
            "* Arranjo de flores naturais, trazendo beleza e fragrância\n",
            "\n",
            "Tudo isso por um valor especial de R$ 190,00.\n",
            "\n",
            "Presenteie quem você ama com um café da manhã inesquecível, repleto de carinho e atenção.\n"
          ]
        }
      ]
    }
  ]
}